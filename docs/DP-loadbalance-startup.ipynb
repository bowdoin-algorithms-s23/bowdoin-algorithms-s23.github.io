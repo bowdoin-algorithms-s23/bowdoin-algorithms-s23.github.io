{
 "cells": [
  {
   "cell_type": "markdown",
   "metadata": {},
   "source": [
    "**Author:**  <your name>"
   ]
  },
  {
   "cell_type": "markdown",
   "metadata": {},
   "source": [
    "## Assignment 7: The load balance problem"
   ]
  },
  {
   "cell_type": "markdown",
   "metadata": {},
   "source": [
    "\n",
    "### Recursive definition"
   ]
  },
  {
   "cell_type": "markdown",
   "metadata": {},
   "source": [
    "First we'll define a wrapper that returns true/false as per the problem: "
   ]
  },
  {
   "cell_type": "code",
   "execution_count": 17,
   "metadata": {},
   "outputs": [],
   "source": [
    "# PARAMETER vals: an array of values, assume all values are positive integers \n",
    "# RETURN: true if the array can be partitioned into two subsets such that \n",
    "# the sum of the elements in both  subsets is equal \n",
    "def equalSubset(vals): \n",
    "    \n",
    "    # .... \n",
    "    canbalance = False ## call subsetSum(vals, ...)\n",
    "    return canbalance"
   ]
  },
  {
   "cell_type": "markdown",
   "metadata": {},
   "source": [
    "Now we define subsetSum,  we'll give the recursive definition without worrying about  running time. "
   ]
  },
  {
   "cell_type": "code",
   "execution_count": 18,
   "metadata": {},
   "outputs": [],
   "source": [
    "# PARAMETER vals: an array of values (times)\n",
    "# PARAMETER ...\n",
    "# RETURN:  True if ...\n",
    "def subsetSum(vals): \n",
    "\n",
    "    #your code goes here \n",
    "    return False "
   ]
  },
  {
   "cell_type": "markdown",
   "metadata": {},
   "source": [
    "Let's check:"
   ]
  },
  {
   "cell_type": "code",
   "execution_count": 19,
   "metadata": {},
   "outputs": [],
   "source": [
    "vals1=[1,5,11, 5]\n",
    "vals2=[1, 2, 3, 5]"
   ]
  },
  {
   "cell_type": "code",
   "execution_count": 20,
   "metadata": {},
   "outputs": [
    {
     "data": {
      "text/plain": [
       "False"
      ]
     },
     "execution_count": 20,
     "metadata": {},
     "output_type": "execute_result"
    }
   ],
   "source": [
    "equalSubset(vals1)"
   ]
  },
  {
   "cell_type": "code",
   "execution_count": 21,
   "metadata": {},
   "outputs": [
    {
     "data": {
      "text/plain": [
       "False"
      ]
     },
     "execution_count": 21,
     "metadata": {},
     "output_type": "execute_result"
    }
   ],
   "source": [
    "equalSubset(vals2)"
   ]
  },
  {
   "cell_type": "code",
   "execution_count": 22,
   "metadata": {},
   "outputs": [],
   "source": [
    "# PARAMETER myFun is a function that takes an array as arg and returns TRue of False\n",
    "def testIt(myFun): \n",
    "    \n",
    "    vals = [\n",
    "        [[1,5,11, 5], True],\n",
    "        [[1, 2, 3, 5], False], \n",
    "        [[1, 1, 1, 1], True], \n",
    "        [[1, 1, 2], True], \n",
    "        [[], True], \n",
    "        [[1], False], \n",
    "        [[1,2], False],\n",
    "        [[1,2,3,4,5,6,7,8,9,10, 45], True], \n",
    "        [[1,2,3,4,5,6,7,8,9,10, 40], False], \n",
    "    ]\n",
    "    \n",
    "    failed = 0\n",
    "    for v in vals:     \n",
    "        print(\"testing \", myFun, \" on \", v[0])\n",
    "        res = myFun(v[0])\n",
    "        if res == v[1]: \n",
    "            print(\"Returns \", res, \", should be \", v[1], \". Passed.\")\n",
    "        else: \n",
    "            failed = failed +1\n",
    "            print(\"Returns \", res, \", should be \", v[1], \". Failed.\")\n",
    "    \n",
    "    ntests = len(vals)\n",
    "    passed = ntests-failed\n",
    "    print(\"Testing done. \", passed, \" passed, \", failed, \" failed.\" )\n",
    "    "
   ]
  },
  {
   "cell_type": "code",
   "execution_count": 23,
   "metadata": {},
   "outputs": [
    {
     "name": "stdout",
     "output_type": "stream",
     "text": [
      "testing  <function equalSubset at 0x105b7c0d0>  on  [1, 5, 11, 5]\n",
      "Returns  False , should be  True . Failed.\n",
      "testing  <function equalSubset at 0x105b7c0d0>  on  [1, 2, 3, 5]\n",
      "Returns  False , should be  False . Passed.\n",
      "testing  <function equalSubset at 0x105b7c0d0>  on  [1, 1, 1, 1]\n",
      "Returns  False , should be  True . Failed.\n",
      "testing  <function equalSubset at 0x105b7c0d0>  on  [1, 1, 2]\n",
      "Returns  False , should be  True . Failed.\n",
      "testing  <function equalSubset at 0x105b7c0d0>  on  []\n",
      "Returns  False , should be  True . Failed.\n",
      "testing  <function equalSubset at 0x105b7c0d0>  on  [1]\n",
      "Returns  False , should be  False . Passed.\n",
      "testing  <function equalSubset at 0x105b7c0d0>  on  [1, 2]\n",
      "Returns  False , should be  False . Passed.\n",
      "testing  <function equalSubset at 0x105b7c0d0>  on  [1, 2, 3, 4, 5, 6, 7, 8, 9, 10, 45]\n",
      "Returns  False , should be  True . Failed.\n",
      "testing  <function equalSubset at 0x105b7c0d0>  on  [1, 2, 3, 4, 5, 6, 7, 8, 9, 10, 40]\n",
      "Returns  False , should be  False . Passed.\n",
      "Testing done.  4  passed,  5  failed.\n"
     ]
    }
   ],
   "source": [
    "testIt(equalSubset)"
   ]
  },
  {
   "cell_type": "markdown",
   "metadata": {},
   "source": [
    "## DP: Recursive (top-down) solution with memoization  "
   ]
  },
  {
   "cell_type": "markdown",
   "metadata": {},
   "source": [
    "subsetSum() as written above will run in exponential time. We can make it efficient by adding a table to cache solutions to subproblems. "
   ]
  },
  {
   "cell_type": "code",
   "execution_count": 29,
   "metadata": {},
   "outputs": [],
   "source": [
    "# PARAMETER vals: an array of values, assume all values are positive integers \n",
    "# RETURN: true if the array can be partitioned into two subsets such that \n",
    "# the sum of the elements in both  subsets is equal \n",
    "def equalSubsetDP_memoization(vals): \n",
    "\n",
    "    # your code goes here: set up table, etc \n",
    "    canbalance = False #subsetSum_memoization(vals, table, ...)\n",
    "    return  canbalance\n",
    "\n",
    "\n",
    "\n",
    "# PARAMETER vals: an array of values (times)\n",
    "# PARAMETER table\n",
    "# PARAMETER ...\n",
    "# RETURN:  true if ....\n",
    "def subsetSumDP_memoization(vals, table):\n",
    "\n",
    "    # your code goes here \n",
    "    return False\n",
    "\n"
   ]
  },
  {
   "cell_type": "code",
   "execution_count": 30,
   "metadata": {},
   "outputs": [
    {
     "data": {
      "text/plain": [
       "False"
      ]
     },
     "execution_count": 30,
     "metadata": {},
     "output_type": "execute_result"
    }
   ],
   "source": [
    "equalSubsetDP_memoization(vals1)"
   ]
  },
  {
   "cell_type": "code",
   "execution_count": 31,
   "metadata": {},
   "outputs": [
    {
     "name": "stdout",
     "output_type": "stream",
     "text": [
      "testing  <function equalSubsetDP_memoization at 0x105eac040>  on  [1, 5, 11, 5]\n",
      "Returns  False , should be  True . Failed.\n",
      "testing  <function equalSubsetDP_memoization at 0x105eac040>  on  [1, 2, 3, 5]\n",
      "Returns  False , should be  False . Passed.\n",
      "testing  <function equalSubsetDP_memoization at 0x105eac040>  on  [1, 1, 1, 1]\n",
      "Returns  False , should be  True . Failed.\n",
      "testing  <function equalSubsetDP_memoization at 0x105eac040>  on  [1, 1, 2]\n",
      "Returns  False , should be  True . Failed.\n",
      "testing  <function equalSubsetDP_memoization at 0x105eac040>  on  []\n",
      "Returns  False , should be  True . Failed.\n",
      "testing  <function equalSubsetDP_memoization at 0x105eac040>  on  [1]\n",
      "Returns  False , should be  False . Passed.\n",
      "testing  <function equalSubsetDP_memoization at 0x105eac040>  on  [1, 2]\n",
      "Returns  False , should be  False . Passed.\n",
      "testing  <function equalSubsetDP_memoization at 0x105eac040>  on  [1, 2, 3, 4, 5, 6, 7, 8, 9, 10, 45]\n",
      "Returns  False , should be  True . Failed.\n",
      "testing  <function equalSubsetDP_memoization at 0x105eac040>  on  [1, 2, 3, 4, 5, 6, 7, 8, 9, 10, 40]\n",
      "Returns  False , should be  False . Passed.\n",
      "Testing done.  4  passed,  5  failed.\n"
     ]
    }
   ],
   "source": [
    "testIt(equalSubsetDP_memoization)"
   ]
  },
  {
   "cell_type": "markdown",
   "metadata": {},
   "source": [
    "\n",
    "## DP Iterative (bottom-up) solution \n"
   ]
  },
  {
   "cell_type": "code",
   "execution_count": 32,
   "metadata": {},
   "outputs": [],
   "source": [
    "# PARAMETER vals: an array of values, assume all values are positive integers \n",
    "# RETURN: true if the array can be partitioned into two subsets such that \n",
    "# the sum of the elements in both  subsets is equal \n",
    "def equalSubsetDP_iterative(vals): \n",
    "   \n",
    "    return False\n"
   ]
  },
  {
   "cell_type": "code",
   "execution_count": 33,
   "metadata": {},
   "outputs": [
    {
     "data": {
      "text/plain": [
       "False"
      ]
     },
     "execution_count": 33,
     "metadata": {},
     "output_type": "execute_result"
    }
   ],
   "source": [
    "equalSubsetDP_iterative(vals1)"
   ]
  },
  {
   "cell_type": "code",
   "execution_count": 34,
   "metadata": {},
   "outputs": [
    {
     "name": "stdout",
     "output_type": "stream",
     "text": [
      "testing  <function equalSubsetDP_iterative at 0x105eac0d0>  on  [1, 5, 11, 5]\n",
      "Returns  False , should be  True . Failed.\n",
      "testing  <function equalSubsetDP_iterative at 0x105eac0d0>  on  [1, 2, 3, 5]\n",
      "Returns  False , should be  False . Passed.\n",
      "testing  <function equalSubsetDP_iterative at 0x105eac0d0>  on  [1, 1, 1, 1]\n",
      "Returns  False , should be  True . Failed.\n",
      "testing  <function equalSubsetDP_iterative at 0x105eac0d0>  on  [1, 1, 2]\n",
      "Returns  False , should be  True . Failed.\n",
      "testing  <function equalSubsetDP_iterative at 0x105eac0d0>  on  []\n",
      "Returns  False , should be  True . Failed.\n",
      "testing  <function equalSubsetDP_iterative at 0x105eac0d0>  on  [1]\n",
      "Returns  False , should be  False . Passed.\n",
      "testing  <function equalSubsetDP_iterative at 0x105eac0d0>  on  [1, 2]\n",
      "Returns  False , should be  False . Passed.\n",
      "testing  <function equalSubsetDP_iterative at 0x105eac0d0>  on  [1, 2, 3, 4, 5, 6, 7, 8, 9, 10, 45]\n",
      "Returns  False , should be  True . Failed.\n",
      "testing  <function equalSubsetDP_iterative at 0x105eac0d0>  on  [1, 2, 3, 4, 5, 6, 7, 8, 9, 10, 40]\n",
      "Returns  False , should be  False . Passed.\n",
      "Testing done.  4  passed,  5  failed.\n"
     ]
    }
   ],
   "source": [
    "testIt(equalSubsetDP_iterative)"
   ]
  },
  {
   "cell_type": "markdown",
   "metadata": {},
   "source": [
    "## Empirical evaluation"
   ]
  },
  {
   "cell_type": "code",
   "execution_count": 35,
   "metadata": {},
   "outputs": [],
   "source": [
    "# set up matplotlib, for plotting stuff.\n",
    "import matplotlib\n",
    "import numpy as np\n",
    "import matplotlib.pyplot as plt"
   ]
  },
  {
   "cell_type": "code",
   "execution_count": 46,
   "metadata": {},
   "outputs": [],
   "source": [
    "import time\n",
    "from random import choice\n",
    "import random\n",
    "\n",
    "# PARAMETER val an array \n",
    "# PARAMETER myFun is a function that takes val as an argument \n",
    "# runs myFun  numTrials and times how long it takes on the average.\n",
    "# Returns: nValues, tValues, where running myFun on an array of size argument nValues[i] took  tValues[i] milliseconds.\n",
    "#\n",
    "\n",
    "numTrials = 10 \n",
    "def runIt(myFun, vals): \n",
    "    nValues = []\n",
    "    tValues = []\n",
    "    n = len(val)\n",
    "    for k in range(n):\n",
    "        # run maxrob several times and average to get a decent idea.\n",
    "        runtime=0\n",
    "        #an array of size k \n",
    "        v = val[:k]\n",
    "        if sum(v)%2 != 0: v.append(1)\n",
    "        for i in range(numTrials):\n",
    "            start = time.time()\n",
    "            myFun(v)\n",
    "            end = time.time()\n",
    "            runtime += (end - start) * 1000 # measure in milliseconds\n",
    "        \n",
    "        runtime /= numTrials\n",
    "        nValues.append(k)\n",
    "        tValues.append(runtime)\n",
    "    return nValues, tValues\n",
    "\n"
   ]
  },
  {
   "cell_type": "code",
   "execution_count": 47,
   "metadata": {},
   "outputs": [],
   "source": [
    "import numpy as np\n",
    "import matplotlib.pyplot as plt\n",
    "\n",
    "\n",
    "##some random vals\n",
    "val = [random.randint(0, 10) for i in range(20)]\n",
    "\n",
    "# run maxrob without DP. \n",
    "# Careful to put a small value of n, because for large values it takes forever. literally.\n",
    "nValues, tValues = runIt(equalSubset, val)\n",
    "\n"
   ]
  },
  {
   "cell_type": "code",
   "execution_count": 48,
   "metadata": {},
   "outputs": [],
   "source": [
    "##some random vals\n",
    "val = [random.randint(0, 10) for i in range(100)]\n",
    "\n",
    "# run maxrobDP_memoization \n",
    "nValuesDP, tValuesDP = runIt(equalSubsetDP_memoization, val)"
   ]
  },
  {
   "cell_type": "markdown",
   "metadata": {},
   "source": [
    " \n"
   ]
  },
  {
   "cell_type": "code",
   "execution_count": 49,
   "metadata": {},
   "outputs": [],
   "source": [
    "\n",
    "# run maxrobDP_iterative \n",
    "nValuesIt, tValuesIt = runIt(equalSubsetDP_iterative, val)\n",
    "\n"
   ]
  },
  {
   "cell_type": "code",
   "execution_count": 50,
   "metadata": {},
   "outputs": [
    {
     "data": {
      "text/plain": [
       "Text(0.5, 1.0, 'Equal subset  numbers')"
      ]
     },
     "execution_count": 50,
     "metadata": {},
     "output_type": "execute_result"
    },
    {
     "data": {
      "image/png": "[encoded data removed]",
      "text/plain": [
       "<Figure size 640x480 with 1 Axes>"
      ]
     },
     "metadata": {},
     "output_type": "display_data"
    }
   ],
   "source": [
    "\n",
    "#plot the running times  \n",
    "plt.plot(nValues, tValues, color=\"red\", label=\"EqSubset: recursive\")\n",
    "plt.plot(nValuesDP, tValuesDP, color=\"blue\", label=\"EqSubset DP memoization\")\n",
    "plt.plot(nValuesIt, tValuesIt, color=\"yellow\", label=\"EqSubset DP iterative\")\n",
    "\n",
    "\n",
    "plt.xlabel(\"n\")\n",
    "plt.ylabel(\"Time(ms)\")\n",
    "plt.legend()\n",
    "plt.title(\"Equal subset  numbers\")"
   ]
  },
  {
   "cell_type": "markdown",
   "metadata": {},
   "source": [
    "### Full solution "
   ]
  },
  {
   "cell_type": "markdown",
   "metadata": {},
   "source": [
    "There are several ways to get the full solution.  Here we are going to walk back the table and reverse the logic, and find which elements are in the subset. "
   ]
  },
  {
   "cell_type": "code",
   "execution_count": 53,
   "metadata": {},
   "outputs": [],
   "source": [
    "# PARAMETER vals: an array of values, assume all values are positive integers \n",
    "# RETURN: true if the array can be partitioned into two subsets such that \n",
    "# the sum of the elements in both  subsets is equal \n",
    "def equalSubsetDP_memoization_withSubset(vals): \n",
    "    \n",
    "    canbalance = False #subsetSumDP_memoization(...)\n",
    "    if canbalance:\n",
    "        subset = [] #getSubset(...)\n",
    "        print(\"subset: \", subset)\n",
    "    return  canbalance\n",
    "\n",
    "\n",
    "\n",
    "# PARAMETER vals: an array of values (times)\n",
    "# PARAMETER ...\n",
    "# RETURN: the subset corresponding to ...\n",
    "def getSubset(vals):\n",
    "    return []\n",
    "   "
   ]
  },
  {
   "cell_type": "code",
   "execution_count": 54,
   "metadata": {},
   "outputs": [
    {
     "data": {
      "text/plain": [
       "False"
      ]
     },
     "execution_count": 54,
     "metadata": {},
     "output_type": "execute_result"
    }
   ],
   "source": [
    "equalSubsetDP_memoization_withSubset(vals1)"
   ]
  },
  {
   "cell_type": "code",
   "execution_count": 55,
   "metadata": {},
   "outputs": [
    {
     "data": {
      "text/plain": [
       "False"
      ]
     },
     "execution_count": 55,
     "metadata": {},
     "output_type": "execute_result"
    }
   ],
   "source": [
    "equalSubsetDP_memoization_withSubset(vals3)"
   ]
  },
  {
   "cell_type": "code",
   "execution_count": 56,
   "metadata": {},
   "outputs": [
    {
     "data": {
      "text/plain": [
       "False"
      ]
     },
     "execution_count": 56,
     "metadata": {},
     "output_type": "execute_result"
    }
   ],
   "source": [
    "equalSubsetDP_memoization_withSubset(vals4)"
   ]
  },
  {
   "cell_type": "code",
   "execution_count": null,
   "metadata": {},
   "outputs": [],
   "source": []
  },
  {
   "cell_type": "code",
   "execution_count": null,
   "metadata": {},
   "outputs": [],
   "source": []
  }
 ],
 "metadata": {
  "kernelspec": {
   "display_name": "Python 3 (ipykernel)",
   "language": "python",
   "name": "python3"
  },
  "language_info": {
   "codemirror_mode": {
    "name": "ipython",
    "version": 3
   },
   "file_extension": ".py",
   "mimetype": "text/x-python",
   "name": "python",
   "nbconvert_exporter": "python",
   "pygments_lexer": "ipython3",
   "version": "3.8.9"
  }
 },
 "nbformat": 4,
 "nbformat_minor": 4
}
