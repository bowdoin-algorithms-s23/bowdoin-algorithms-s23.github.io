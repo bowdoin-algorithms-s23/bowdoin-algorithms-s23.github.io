{
 "cells": [
  {
   "cell_type": "markdown",
   "metadata": {},
   "source": [
    "**Credit:** Laura Toma, 3/26/2021, updated 10/19/2022"
   ]
  },
  {
   "cell_type": "markdown",
   "metadata": {},
   "source": [
    "## Dynamic programming: The rod cutting problem"
   ]
  },
  {
   "cell_type": "markdown",
   "metadata": {},
   "source": [
    "Consider the rod cutting problem as discussed in class:  We are given a long steel rod and we need to cut it into smaller pieces which we then sell.  Making a cut is free, and the rod lengths  are always integers.  Assume we are given a table with sale prices: for each i=1, 2, 3, ..., n,   p[i] is the sale price for a rod of length i. \n",
    "\n",
    "Goal: Given a rod of length n and a price table p[], determine the maximal revenue obtainable by cutting up the rod and selling the pieces. "
   ]
  },
  {
   "cell_type": "markdown",
   "metadata": {},
   "source": [
    "For examples, consider the case when:  n=10 and  p = [0, 1, 5, 8, 9, 19, 17, 17, 20, 24, 30]"
   ]
  },
  {
   "cell_type": "code",
   "execution_count": 1,
   "metadata": {},
   "outputs": [],
   "source": [
    "n=10\n",
    "p = [0,1,5,8,9,19,17,17,20,24,30]"
   ]
  },
  {
   "cell_type": "markdown",
   "metadata": {},
   "source": [
    "\n",
    "### Notation and the choice of subproblem\n"
   ]
  },
  {
   "cell_type": "markdown",
   "metadata": {},
   "source": [
    "Let maxrev(n) denote the maximal revenue obtainable from a rod of length n, given the price table. \n",
    "\n",
    "Since the price table does not change, we don't need to include it as a parameter and could instead have it as a global variable. However good programming style discourages the use of globals  (\"globals are evil\"), so we chose to pass  it as a parameter. "
   ]
  },
  {
   "cell_type": "code",
   "execution_count": 2,
   "metadata": {},
   "outputs": [],
   "source": [
    "# takes an integer n (length of rod) and a price table\n",
    "# returns the maximal revenue obtainable by cutting the rod\n",
    "def maxrev(n, price): \n",
    "    if n==0: return 0\n",
    "    if n==1: return price[1]\n",
    "    #else \n",
    "   \n",
    "    #initialize table rev[] that will store all options \n",
    "    rev=[0 for i in range(n+1)]\n",
    "    \n",
    "    for i in range(1, n+1): \n",
    "        #make first cut at distance i and store the revenue in rev[i]\n",
    "        rev[i] = price[i] + maxrev(n-i, price)\n",
    "    \n",
    "    return max(rev)\n"
   ]
  },
  {
   "cell_type": "markdown",
   "metadata": {},
   "source": [
    "Let's do a sanity check: "
   ]
  },
  {
   "cell_type": "code",
   "execution_count": 3,
   "metadata": {},
   "outputs": [
    {
     "name": "stdout",
     "output_type": "stream",
     "text": [
      "maxrev( 0 )= 0\n",
      "maxrev( 1 )= 1\n",
      "maxrev( 2 )= 5\n",
      "maxrev( 3 )= 8\n",
      "maxrev( 4 )= 10\n",
      "maxrev( 5 )= 19\n",
      "maxrev( 6 )= 20\n",
      "maxrev( 7 )= 24\n",
      "maxrev( 8 )= 27\n",
      "maxrev( 9 )= 29\n",
      "maxrev( 10 )= 38\n"
     ]
    }
   ],
   "source": [
    "for i in range(11): \n",
    "    print(\"maxrev(\", i, \")=\", maxrev(i, p))\n"
   ]
  },
  {
   "cell_type": "markdown",
   "metadata": {},
   "source": [
    "What is the running time of maxrev(n) as written above? "
   ]
  },
  {
   "cell_type": "markdown",
   "metadata": {},
   "source": [
    "## Rod cutting solution  with dynamic programming "
   ]
  },
  {
   "cell_type": "markdown",
   "metadata": {},
   "source": [
    "Let's write code to compute maxrev(n) with dynamic programming, both top-down and bottom-up. We'll plot them and compare them with the brute-force recursive version. "
   ]
  },
  {
   "cell_type": "markdown",
   "metadata": {},
   "source": [
    "\n",
    "### Top down (recursive)  with memo-ization \n",
    "\n"
   ]
  },
  {
   "cell_type": "code",
   "execution_count": 4,
   "metadata": {},
   "outputs": [],
   "source": [
    "#DP topdown uses a table \n",
    "#we have two options on: \n",
    "#    option 1: make the table a global variable \n",
    "#\n",
    "#or, option2:  make maxrev(n)  take the table as an additional parameter.       \n",
    "#              In this case we'll need to create a helper function that takes the table \n",
    "#              as a parameter. Note that the table is passed along in the recursion \n",
    "#              so it is essentially shared by all subproblems\n",
    "#Using global variables is  in general poor programming style so we choose option 2     \n",
    "\n",
    "\n",
    "INITIAL_VALUE = -1\n",
    "\n",
    "# takes an integer n (length of rod) and a price table\n",
    "# returns the maximal revenue obtainable by cutting the rod\n",
    "def maxrevDP_topdown(n, price): \n",
    "    #if n==0: return 0    <--- we can put this here, but not necessary \n",
    "    #if n==1: return p[1] <--- we can put this here, but not necessary \n",
    "    #else \n",
    "    #create and initialize an array to store solutions to subproblems \n",
    "    table = [ INITIAL_VALUE for i in range(n+1)]\n",
    "    \n",
    "    return maxrevDP_helper(n, price, table)\n",
    "\n",
    "\n",
    "def maxrevDP_helper(n, price, table): \n",
    "\n",
    "    #if this has already been compute, retrieve it \n",
    "    if table[n] != INITIAL_VALUE: \n",
    "        #print(\"got it from the table\")\n",
    "        return table[n]\n",
    "   \n",
    "    #else: this is the first call to this subproblem. Solve it and store it \n",
    "    if n==0: \n",
    "        table[0] = 0\n",
    "        return table[0]\n",
    "    #else \n",
    "    rev=[0 for i in range(n+1)]\n",
    "    for i in range(1, n+1): \n",
    "        #make first cut at distance i\n",
    "        rev[i] = price[i] + maxrevDP_helper(n-i, price, table)\n",
    "        \n",
    "    table[n] = max(rev)\n",
    "    return table[n]\n",
    "\n",
    "    "
   ]
  },
  {
   "cell_type": "code",
   "execution_count": 5,
   "metadata": {},
   "outputs": [
    {
     "name": "stdout",
     "output_type": "stream",
     "text": [
      "1\n",
      "5\n",
      "8\n",
      "10\n",
      "19\n",
      "20\n",
      "24\n",
      "27\n",
      "29\n",
      "38\n"
     ]
    }
   ],
   "source": [
    "for  i in range(1, 11): \n",
    "    print(maxrevDP_topdown(i, p))"
   ]
  },
  {
   "cell_type": "markdown",
   "metadata": {},
   "source": [
    "For this particular case, how many times is an entry retrieved from the table? "
   ]
  },
  {
   "cell_type": "markdown",
   "metadata": {},
   "source": [
    "\n",
    "### Bottom-up (iterative) \n"
   ]
  },
  {
   "cell_type": "code",
   "execution_count": 6,
   "metadata": {},
   "outputs": [],
   "source": [
    "# takes an integer n (length of rod) and a price table\n",
    "# returns the maximal revenue obtainable by cutting the rod\n",
    "def maxrevDP_bottomup(n, price): \n",
    "    #create and initialize an array to store solutions to subproblems \n",
    "    table = [ INITIAL_VALUE for i in range(n+1)]\n",
    "    table[0] = 0 \n",
    "    \n",
    "    for k in range(1, n+1):\n",
    "        # compute maxrev(k) and store it in table[k]\n",
    "        rev=[0 for i in range(k+1)]\n",
    "        for i in range(1, k+1): \n",
    "            #make first cut at distance i\n",
    "            rev[i] = price[i] + table[k-i]\n",
    "        table[k] = max(rev)\n",
    "   \n",
    "    return table[n]\n"
   ]
  },
  {
   "cell_type": "code",
   "execution_count": 7,
   "metadata": {},
   "outputs": [
    {
     "name": "stdout",
     "output_type": "stream",
     "text": [
      "1\n",
      "5\n",
      "8\n",
      "10\n",
      "19\n",
      "20\n",
      "24\n",
      "27\n",
      "29\n",
      "38\n"
     ]
    }
   ],
   "source": [
    "for  i in range(1, 11): \n",
    "    print(maxrevDP_bottomup(i, p))"
   ]
  },
  {
   "cell_type": "markdown",
   "metadata": {},
   "source": [
    "## Empirical evaluation"
   ]
  },
  {
   "cell_type": "code",
   "execution_count": 8,
   "metadata": {},
   "outputs": [],
   "source": [
    "# set up matplotlib, for plotting stuff.\n",
    "%matplotlib inline\n",
    "import matplotlib\n",
    "import numpy as np\n",
    "import matplotlib.pyplot as plt"
   ]
  },
  {
   "cell_type": "code",
   "execution_count": 9,
   "metadata": {},
   "outputs": [],
   "source": [
    "import time\n",
    "from random import choice\n",
    "\n",
    "# runIt: runs myFun function numTrials and times how long it takes on the average.\n",
    "#\n",
    "# Input: myFn: a function which takes as input an  integer and an array \n",
    "#        n: myFun is run on 1, 2, 3, ..., n\n",
    "#       \n",
    "# Returns: nValues, tValues, where running myFun with argument nValues[i] took  tValues[i] milliseconds.\n",
    "#\n",
    "def runIt(myFun, n, price, numTrials=10):\n",
    "    nValues = []\n",
    "    tValues = []\n",
    "    for k in range(n):\n",
    "        # run myFn several times and average to get a decent idea.\n",
    "        runtime=0\n",
    "        for i in range(numTrials):\n",
    "            start = time.time()\n",
    "            myFun(k, price)\n",
    "            end = time.time()\n",
    "            runtime += (end - start) * 1000 # measure in milliseconds\n",
    "        \n",
    "        runtime /= numTrials\n",
    "        nValues.append(k)\n",
    "        tValues.append(runtime)\n",
    "    return nValues, tValues\n",
    "\n"
   ]
  },
  {
   "cell_type": "markdown",
   "metadata": {},
   "source": [
    " \n"
   ]
  },
  {
   "cell_type": "code",
   "execution_count": 10,
   "metadata": {},
   "outputs": [
    {
     "data": {
      "text/plain": [
       "Text(0.5, 1.0, 'Rod cutting numbers')"
      ]
     },
     "execution_count": 10,
     "metadata": {},
     "output_type": "execute_result"
    },
    {
     "data": {
      "image/png": "[encoded data removed]",
      "text/plain": [
       "<Figure size 432x288 with 1 Axes>"
      ]
     },
     "metadata": {
      "needs_background": "light"
     },
     "output_type": "display_data"
    }
   ],
   "source": [
    "##some prices\n",
    "p = [i for i in range(101000)]\n",
    "\n",
    "# run maxrev without DP. Careful to put a small value of n, because for large values it takes forever\n",
    "nValues, tValues = runIt(maxrev, 15, p, 5)\n",
    "\n",
    "#run maxrevDP_topdown \n",
    "nValuesDP1, tValuesDP1 = runIt(maxrevDP_topdown, 200, p)\n",
    "\n",
    "#run maxrevDP_bottomup\n",
    "nValuesDP2, tValuesDP2 = runIt(maxrevDP_bottomup, 200, p)\n",
    "\n",
    "#plot the running times  \n",
    "plt.plot(nValues, tValues, color=\"red\", label=\"Maxrev: recursive\")\n",
    "plt.plot(nValuesDP1, tValuesDP1, color=\"blue\", label=\"Maxrev DP topdown\")\n",
    "plt.plot(nValuesDP2, tValuesDP2, color=\"yellow\", label=\"Maxrev DP: bottomup\")\n",
    "\n",
    "\n",
    "plt.xlabel(\"n\")\n",
    "plt.ylabel(\"Time(ms)\")\n",
    "plt.legend()\n",
    "plt.title(\"Rod cutting numbers\")\n"
   ]
  },
  {
   "cell_type": "markdown",
   "metadata": {},
   "source": [
    "\n",
    "What conclusion can you draw? \n"
   ]
  },
  {
   "cell_type": "markdown",
   "metadata": {},
   "source": [
    "## Finding the full solution"
   ]
  },
  {
   "cell_type": "markdown",
   "metadata": {},
   "source": [
    "Finally, we want to extend the solution above in order to compute the actual set of cuts  corresponding to the maximum revenue. \n",
    "\n",
    "In general we can choose to extend either the top-down or the bottom-up solution. \n",
    "\n",
    "\n",
    "The code below extends the top-down solution.  The bodies of two functions are missing.  Fill in the missing part so that you can see the set of cuts. "
   ]
  },
  {
   "cell_type": "code",
   "execution_count": 28,
   "metadata": {},
   "outputs": [],
   "source": [
    "INITIAL_VALUE = -1\n",
    "# takes an integer n (length of rod) and a price table\n",
    "# finds the maximal revenue obtainable by cutting the rod and prints out the set of cuts \n",
    "def maxrevDP_topdown_fullsolution(n, price): \n",
    "   \n",
    "    #create a table that stores the max revenue \n",
    "    table_rev = [ INITIAL_VALUE for i in range(n+1)]\n",
    "\n",
    "    #create an additional table, which stores the optimal choices\n",
    "    table_choice = [ INITIAL_VALUE for i in range(n+1)]\n",
    "\n",
    "    #compute \n",
    "    maxrevDP_helper_fullsolution(n, price, table_rev, table_choice)\n",
    "    \n",
    "    print(\"the maximum revenue is: \", table_rev[n])\n",
    "    \n",
    "    #traverse the tables and figure out the set of cuts corresponding to the max. revenue \n",
    "    return find_solution(n, table_choice)\n",
    "    \n",
    "\n",
    "def maxrevDP_helper_fullsolution(n, price, table_rev, table_choices): \n",
    "    #add your code here\n",
    "    return 0;\n",
    "    \n",
    "def find_solution(n, table_choice):\n",
    "    #add your code here \n",
    "    return 0; \n",
    "    "
   ]
  },
  {
   "cell_type": "code",
   "execution_count": 29,
   "metadata": {},
   "outputs": [
    {
     "name": "stdout",
     "output_type": "stream",
     "text": [
      "the maximum revenue is:  -1\n"
     ]
    },
    {
     "data": {
      "text/plain": [
       "0"
      ]
     },
     "execution_count": 29,
     "metadata": {},
     "output_type": "execute_result"
    }
   ],
   "source": [
    "n=10\n",
    "p = [0,1,5,8,9,19,17,17,20,24,30]\n",
    "maxrevDP_topdown_fullsolution(10, p)"
   ]
  },
  {
   "cell_type": "code",
   "execution_count": null,
   "metadata": {},
   "outputs": [],
   "source": []
  },
  {
   "cell_type": "code",
   "execution_count": null,
   "metadata": {},
   "outputs": [],
   "source": []
  }
 ],
 "metadata": {
  "kernelspec": {
   "display_name": "Python 3",
   "language": "python",
   "name": "python3"
  },
  "language_info": {
   "codemirror_mode": {
    "name": "ipython",
    "version": 3
   },
   "file_extension": ".py",
   "mimetype": "text/x-python",
   "name": "python",
   "nbconvert_exporter": "python",
   "pygments_lexer": "ipython3",
   "version": "3.8.5"
  }
 },
 "nbformat": 4,
 "nbformat_minor": 4
}
